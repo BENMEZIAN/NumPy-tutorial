{
  "nbformat": 4,
  "nbformat_minor": 0,
  "metadata": {
    "colab": {
      "provenance": [],
      "authorship_tag": "ABX9TyPxwhW56oGzBVoRJLo32siS",
      "include_colab_link": true
    },
    "kernelspec": {
      "name": "python3",
      "display_name": "Python 3"
    },
    "language_info": {
      "name": "python"
    }
  },
  "cells": [
    {
      "cell_type": "markdown",
      "metadata": {
        "id": "view-in-github",
        "colab_type": "text"
      },
      "source": [
        "<a href=\"https://colab.research.google.com/github/BENMEZIAN/NumPy-tutorial/blob/main/Part_10_Random_sampling.ipynb\" target=\"_parent\"><img src=\"https://colab.research.google.com/assets/colab-badge.svg\" alt=\"Open In Colab\"/></a>"
      ]
    },
    {
      "cell_type": "code",
      "execution_count": 14,
      "metadata": {
        "id": "iZ9yGDBLnpZu"
      },
      "outputs": [],
      "source": [
        "import numpy as np"
      ]
    },
    {
      "cell_type": "code",
      "source": [
        "# prompt: Little resume about random sampling in numpy\n",
        "\n",
        "# Random sampling in NumPy\n",
        "\n",
        "# 1. `np.random.rand(d0, d1, ..., dn)`: Generate random floats in the half-open interval [0.0, 1.0).\n",
        "#    - `d0, d1, ..., dn`: Dimensions of the returned array.\n",
        "\n",
        "# Example: Generate a 3x2 array of random floats\n",
        "random_floats = np.random.rand(3, 2)\n",
        "print(\"Random floats:\\n\", random_floats)\n",
        "\n",
        "# Example: Generate 5 random integers between 0 and 10 (exclusive)\n",
        "random_integers = np.random.randint(0, 10, size=5)\n",
        "print(\"\\nRandom integers:\\n\", random_integers)\n",
        "\n",
        "# Example: Choose 3 elements from [1, 2, 3, 4, 5] with replacement, with equal probability\n",
        "random_choices = np.random.choice([1, 2, 3, 4, 5], size=3, replace=True)\n",
        "print(\"\\nRandom choices:\\n\", random_choices)\n",
        "\n",
        "# Example: Shuffle a list\n",
        "my_list = [1, 2, 3, 4, 5]\n",
        "np.random.shuffle(my_list)\n",
        "print(\"\\nShuffled list:\\n\", my_list)\n",
        "\n",
        "# Example: Permute the numbers 0 to 4\n",
        "permuted_array = np.random.permutation(5)\n",
        "print(\"\\nPermuted array:\\n\", permuted_array)\n"
      ],
      "metadata": {
        "colab": {
          "base_uri": "https://localhost:8080/"
        },
        "id": "KuyipWAJsv2S",
        "outputId": "1be7d37d-6647-4827-cb1c-f3b8a9c3090e"
      },
      "execution_count": 16,
      "outputs": [
        {
          "output_type": "stream",
          "name": "stdout",
          "text": [
            "Random floats:\n",
            " [[0.03563322 0.5088469 ]\n",
            " [0.69171539 0.42154936]\n",
            " [0.21875512 0.89275222]]\n",
            "\n",
            "Random integers:\n",
            " [2 0 5 7 5]\n",
            "\n",
            "Random choices:\n",
            " [1 5 1]\n",
            "\n",
            "Shuffled list:\n",
            " [1, 2, 3, 5, 4]\n",
            "\n",
            "Permuted array:\n",
            " [0 4 2 1 3]\n"
          ]
        }
      ]
    },
    {
      "cell_type": "code",
      "source": [
        "comment = \"\"\"Summary of Key Functions:\n",
        "np.random.rand(): Generates random values between 0 and 1.\n",
        "np.random.random(): Similar to rand() but allows you to specify shape.\n",
        "np.random.randn(): Generates random values from a standard normal distribution.\n",
        "np.random.normal(): Generates random values from a normal distribution with specified mean and standard deviation.\n",
        "np.random.choice(): Samples random values from a given 1D array.\n",
        "np.random.randint(): Generates random integers from a specified range.\n",
        "np.random.permutation(): Randomly permutes an array.\n",
        "np.random.shuffle(): Shuffles the elements of an array in place.\"\"\""
      ],
      "metadata": {
        "id": "ldluaCrivUQq"
      },
      "execution_count": null,
      "outputs": []
    }
  ]
}