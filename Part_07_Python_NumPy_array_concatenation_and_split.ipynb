{
  "nbformat": 4,
  "nbformat_minor": 0,
  "metadata": {
    "colab": {
      "provenance": [],
      "authorship_tag": "ABX9TyMUXqEzW5i59ktHzy9je09c",
      "include_colab_link": true
    },
    "kernelspec": {
      "name": "python3",
      "display_name": "Python 3"
    },
    "language_info": {
      "name": "python"
    }
  },
  "cells": [
    {
      "cell_type": "markdown",
      "metadata": {
        "id": "view-in-github",
        "colab_type": "text"
      },
      "source": [
        "<a href=\"https://colab.research.google.com/github/BENMEZIAN/NumPy-tutorial/blob/main/Part_07_Python_NumPy_array_concatenation_and_split.ipynb\" target=\"_parent\"><img src=\"https://colab.research.google.com/assets/colab-badge.svg\" alt=\"Open In Colab\"/></a>"
      ]
    },
    {
      "cell_type": "code",
      "execution_count": 1,
      "metadata": {
        "id": "BkLYCBzQFO0_"
      },
      "outputs": [],
      "source": [
        "import numpy as np"
      ]
    },
    {
      "cell_type": "markdown",
      "source": [
        "# Concatenating Arrays with Same Dimensions"
      ],
      "metadata": {
        "id": "gh7xddqQP6G_"
      }
    },
    {
      "cell_type": "code",
      "source": [
        "# concatenate two one dimensional arrays\n",
        "first_array = np.array([1, 2, 3])\n",
        "second_array = np.array([4, 5, 6])\n",
        "concatenated_array = np.concatenate((first_array, second_array))\n",
        "print(concatenated_array)\n",
        "\n",
        "concatenated_array = np.concatenate((first_array, second_array), axis = None)\n",
        "print(concatenated_array)\n",
        "\n",
        "concatenated_array = np.concatenate((first_array, second_array), axis = 0) # axis = 0 means ROWS\n",
        "print(concatenated_array)"
      ],
      "metadata": {
        "colab": {
          "base_uri": "https://localhost:8080/"
        },
        "id": "65WR8ISVNHOr",
        "outputId": "b293a7f7-1664-489f-f462-057a53d80a05"
      },
      "execution_count": 37,
      "outputs": [
        {
          "output_type": "stream",
          "name": "stdout",
          "text": [
            "[1 2 3 4 5 6]\n",
            "[1 2 3 4 5 6]\n",
            "[1 2 3 4 5 6]\n"
          ]
        }
      ]
    },
    {
      "cell_type": "code",
      "source": [
        "# concatenate two dimensional arrays\n",
        "first_array = np.array([[1, 2, 3],\n",
        "                        [4, 5, 6]])\n",
        "second_array = np.array([[7, 8, 9],\n",
        "                        [10, 11, 12]])\n",
        "\n",
        "concatenated_array = np.concatenate((first_array, second_array))\n",
        "print(concatenated_array)\n",
        "\n",
        "concatenated_array = np.concatenate((first_array, second_array), axis = None)\n",
        "print(concatenated_array)\n",
        "\n",
        "print(\"Concatenate with rows : \")\n",
        "concatenated_array = np.concatenate((first_array, second_array), axis = 0) # ROWS\n",
        "print(concatenated_array)\n",
        "\n",
        "print(\"Concatenate with columns : \")\n",
        "concatenated_array = np.concatenate((first_array, second_array), axis = 1) # COLUMNS\n",
        "print(concatenated_array)"
      ],
      "metadata": {
        "colab": {
          "base_uri": "https://localhost:8080/"
        },
        "id": "XkWbBBvEHMPB",
        "outputId": "e0269277-83a4-4dc7-f955-a90e9aa60839"
      },
      "execution_count": 39,
      "outputs": [
        {
          "output_type": "stream",
          "name": "stdout",
          "text": [
            "[[ 1  2  3]\n",
            " [ 4  5  6]\n",
            " [ 7  8  9]\n",
            " [10 11 12]]\n",
            "[ 1  2  3  4  5  6  7  8  9 10 11 12]\n",
            "Concatenate with rows : \n",
            "[[ 1  2  3]\n",
            " [ 4  5  6]\n",
            " [ 7  8  9]\n",
            " [10 11 12]]\n",
            "Concatenate with columns : \n",
            "[[ 1  2  3  7  8  9]\n",
            " [ 4  5  6 10 11 12]]\n"
          ]
        }
      ]
    },
    {
      "cell_type": "markdown",
      "source": [
        "# Concatenating Arrays with Different Dimensions"
      ],
      "metadata": {
        "id": "cadrNjpqQC-G"
      }
    },
    {
      "cell_type": "code",
      "source": [
        "# concat two arrays with different dimensions\n",
        "first_array = np.array([1, 2, 3])\n",
        "second_array = np.array([[4, 5, 6],\n",
        "                        [7, 8, 9]])\n",
        "\n",
        "# use vstack for vertically (rows, axis = 0)\n",
        "concatenated_array = np.vstack((first_array, second_array))\n",
        "print(concatenated_array)"
      ],
      "metadata": {
        "colab": {
          "base_uri": "https://localhost:8080/"
        },
        "id": "7891r2U3QIwI",
        "outputId": "243a6a26-dd28-4aba-b0fd-9f5bc917755e"
      },
      "execution_count": 42,
      "outputs": [
        {
          "output_type": "stream",
          "name": "stdout",
          "text": [
            "[[1 2 3]\n",
            " [4 5 6]\n",
            " [7 8 9]]\n"
          ]
        }
      ]
    },
    {
      "cell_type": "code",
      "source": [
        "# create two different arrays\n",
        "first_array = np.array([[1, 2, 3],\n",
        "                        [4, 5, 6]])\n",
        "second_array = np.array([[7, 8],\n",
        "                        [9, 10]])\n",
        "\n",
        "# use hstack for horizontally (columns axis 1)\n",
        "concatenated_array = np.hstack((first_array, second_array))\n",
        "print(concatenated_array)"
      ],
      "metadata": {
        "colab": {
          "base_uri": "https://localhost:8080/"
        },
        "id": "8MfjD1KKQfec",
        "outputId": "ca2bd6eb-bd1b-4c4a-ea0b-01d52ce2956c"
      },
      "execution_count": 43,
      "outputs": [
        {
          "output_type": "stream",
          "name": "stdout",
          "text": [
            "[[ 1  2  3  7  8]\n",
            " [ 4  5  6  9 10]]\n"
          ]
        }
      ]
    }
  ]
}