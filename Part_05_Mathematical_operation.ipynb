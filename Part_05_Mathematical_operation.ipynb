{
  "nbformat": 4,
  "nbformat_minor": 0,
  "metadata": {
    "colab": {
      "provenance": [],
      "authorship_tag": "ABX9TyM4ozqyWubGVFCWnDRu8FVs",
      "include_colab_link": true
    },
    "kernelspec": {
      "name": "python3",
      "display_name": "Python 3"
    },
    "language_info": {
      "name": "python"
    }
  },
  "cells": [
    {
      "cell_type": "markdown",
      "metadata": {
        "id": "view-in-github",
        "colab_type": "text"
      },
      "source": [
        "<a href=\"https://colab.research.google.com/github/BENMEZIAN/NumPy-tutorial/blob/main/Part_05_Mathematical_operation.ipynb\" target=\"_parent\"><img src=\"https://colab.research.google.com/assets/colab-badge.svg\" alt=\"Open In Colab\"/></a>"
      ]
    },
    {
      "cell_type": "code",
      "execution_count": 1,
      "metadata": {
        "id": "1i8BzIbTkdl6"
      },
      "outputs": [],
      "source": [
        "import numpy as np"
      ]
    },
    {
      "cell_type": "code",
      "source": [
        "# Create two two dimensional arrays in order to apply the mathematical operations\n",
        "first_array = np.array([[1, 2, 3], [4, 5, 6]])\n",
        "second_array = np.array([[7, 8, 9], [10, 11, 12]])\n",
        "# arr to do matix product\n",
        "third_array = np.array([[1, 2], [3, 4], [5, 6]])\n",
        "\n",
        "print(first_array + second_array)\n",
        "print(\"--------------------------\")\n",
        "print(first_array - second_array)\n",
        "print(\"--------------------------\")\n",
        "print(first_array * second_array) # or np.multiply(first_array, second_array)\n",
        "print(\"--------------------------\")\n",
        "print(first_array / second_array)\n",
        "print(\"--------------------------\")\n",
        "print(first_array % second_array)\n",
        "print(\"--------------------------\")\n",
        "print(first_array @ third_array) # or np.matmul(first_array, third_array)\n",
        "print(\"--------------------------\")\n",
        "print(first_array ** second_array)"
      ],
      "metadata": {
        "colab": {
          "base_uri": "https://localhost:8080/"
        },
        "id": "SabbOSw-lbvN",
        "outputId": "d455149f-b21f-4fb8-9eee-405ffe1303b2"
      },
      "execution_count": 21,
      "outputs": [
        {
          "output_type": "stream",
          "name": "stdout",
          "text": [
            "[[ 8 10 12]\n",
            " [14 16 18]]\n",
            "--------------------------\n",
            "[[-6 -6 -6]\n",
            " [-6 -6 -6]]\n",
            "--------------------------\n",
            "[[ 7 16 27]\n",
            " [40 55 72]]\n",
            "--------------------------\n",
            "[[0.14285714 0.25       0.33333333]\n",
            " [0.4        0.45454545 0.5       ]]\n",
            "--------------------------\n",
            "[[1 2 3]\n",
            " [4 5 6]]\n",
            "--------------------------\n",
            "[[22 28]\n",
            " [49 64]]\n",
            "--------------------------\n",
            "[[         1        256      19683]\n",
            " [   1048576   48828125 2176782336]]\n"
          ]
        }
      ]
    },
    {
      "cell_type": "code",
      "source": [
        "# Built-in functions\n",
        "print(first_array.max())\n",
        "print(first_array.argmax())\n",
        "print(\"-------------------\")\n",
        "print(first_array.min())\n",
        "print(first_array.argmin())\n",
        "print(\"-------------------\")\n",
        "print(first_array.sum())\n",
        "print(\"-------------------\")\n",
        "print(first_array.mean())\n",
        "print(\"-------------------\")\n",
        "print(first_array.std())\n",
        "print(\"-------------------\")\n",
        "print(np.sqrt(first_array))\n",
        "print(\"-------------------\")\n",
        "print(np.log(first_array))\n",
        "print(\"-------------------\")\n",
        "print(np.log10(first_array))\n",
        "print(\"-------------------\")\n",
        "print(np.exp(first_array))\n",
        "print(\"-------------------\")\n",
        "print(np.sin(first_array))\n",
        "print(\"-------------------\")\n",
        "print(np.cos(first_array))\n",
        "print(\"-------------------\")\n",
        "print(np.tan(first_array))\n",
        "print(\"-------------------\")"
      ],
      "metadata": {
        "colab": {
          "base_uri": "https://localhost:8080/"
        },
        "id": "lsNMiarY8xob",
        "outputId": "4d69aff5-e9fa-4026-f741-4fff6e7d84ad"
      },
      "execution_count": 33,
      "outputs": [
        {
          "output_type": "stream",
          "name": "stdout",
          "text": [
            "6\n",
            "5\n",
            "-------------------\n",
            "1\n",
            "0\n",
            "-------------------\n",
            "21\n",
            "-------------------\n",
            "3.5\n",
            "-------------------\n",
            "1.707825127659933\n",
            "-------------------\n",
            "[[1.         1.41421356 1.73205081]\n",
            " [2.         2.23606798 2.44948974]]\n",
            "-------------------\n",
            "[[0.         0.69314718 1.09861229]\n",
            " [1.38629436 1.60943791 1.79175947]]\n",
            "-------------------\n",
            "[[0.         0.30103    0.47712125]\n",
            " [0.60205999 0.69897    0.77815125]]\n",
            "-------------------\n",
            "[[  2.71828183   7.3890561   20.08553692]\n",
            " [ 54.59815003 148.4131591  403.42879349]]\n",
            "-------------------\n",
            "[[ 0.84147098  0.90929743  0.14112001]\n",
            " [-0.7568025  -0.95892427 -0.2794155 ]]\n",
            "-------------------\n",
            "[[ 0.54030231 -0.41614684 -0.9899925 ]\n",
            " [-0.65364362  0.28366219  0.96017029]]\n",
            "-------------------\n",
            "[[ 1.55740772 -2.18503986 -0.14254654]\n",
            " [ 1.15782128 -3.38051501 -0.29100619]]\n",
            "-------------------\n"
          ]
        }
      ]
    },
    {
      "cell_type": "code",
      "source": [
        "# Conclusion\n",
        "# In the blog of NumPy mathematical functions, we covered the most useful mathematical functions.\n",
        "# These are the best to solve machine learning and data science project."
      ],
      "metadata": {
        "id": "j5Wm4AuL_NCb"
      },
      "execution_count": null,
      "outputs": []
    }
  ]
}