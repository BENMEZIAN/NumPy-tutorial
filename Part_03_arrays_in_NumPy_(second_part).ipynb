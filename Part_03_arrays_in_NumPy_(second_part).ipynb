{
  "nbformat": 4,
  "nbformat_minor": 0,
  "metadata": {
    "colab": {
      "provenance": [],
      "authorship_tag": "ABX9TyMVqxyFJRCEufKKwCppNmXh",
      "include_colab_link": true
    },
    "kernelspec": {
      "name": "python3",
      "display_name": "Python 3"
    },
    "language_info": {
      "name": "python"
    }
  },
  "cells": [
    {
      "cell_type": "markdown",
      "metadata": {
        "id": "view-in-github",
        "colab_type": "text"
      },
      "source": [
        "<a href=\"https://colab.research.google.com/github/BENMEZIAN/NumPy-tutorial/blob/main/Part_03_arrays_in_NumPy_(second_part).ipynb\" target=\"_parent\"><img src=\"https://colab.research.google.com/assets/colab-badge.svg\" alt=\"Open In Colab\"/></a>"
      ]
    },
    {
      "cell_type": "code",
      "execution_count": 1,
      "metadata": {
        "id": "H0_iNY2DZ-dQ"
      },
      "outputs": [],
      "source": [
        "import numpy as np"
      ]
    },
    {
      "cell_type": "code",
      "source": [
        "# Create one dimensional NumPy array, use np.ones()\n",
        "ones_array = np.ones(4) # create 1D array\n",
        "print(ones_array) # printing 1d array\n",
        "print(\"------------------------------\")\n",
        "print(\"Information of this array :\")\n",
        "print(\"type(one_d_array) is :\",type(ones_array)) # printing type of array\n",
        "print(\"Dtype of one_d_array is :\",ones_array.dtype) # printing dtype of array\n",
        "print(\"Dimension of one_d_array is :\",ones_array.ndim, \"dimension(s)\") # printing dimension of array\n",
        "print(\"Size of one_d_array is :\",ones_array.size, \"elements\") # printing size of array\n",
        "print(\"Shape of one_d_array is :\",ones_array.shape) # printing shape of array  (columns, )\n",
        "print(\"------------------------------\")\n",
        "\n"
      ],
      "metadata": {
        "colab": {
          "base_uri": "https://localhost:8080/"
        },
        "id": "WqCwjQ6JaLAS",
        "outputId": "a816329b-a954-418e-a1c2-ab4598f659b9"
      },
      "execution_count": 3,
      "outputs": [
        {
          "output_type": "stream",
          "name": "stdout",
          "text": [
            "[1. 1. 1. 1.]\n",
            "------------------------------\n",
            "Information of this array :\n",
            "type(one_d_array) is : <class 'numpy.ndarray'>\n",
            "Dtype of one_d_array is : float64\n",
            "Dimension of one_d_array is : 1 dimension(s)\n",
            "Size of one_d_array is : 4 elements\n",
            "Shape of one_d_array is : (4,)\n",
            "------------------------------\n"
          ]
        }
      ]
    },
    {
      "cell_type": "code",
      "source": [
        "# Create two diemensional NumPy array, use ones()\n",
        "arr = np.ones((3, 4), dtype=float)  # 3x4 2D array of ones with dtype = int (it could : int, float)\n",
        "print(arr)\n",
        "print(\"------------------------------\")\n",
        "print(\"Information of this array :\")\n",
        "print(\"type(one_d_array) is :\",type(arr)) # printing type of array\n",
        "print(\"Dtype of one_d_array is :\",arr.dtype) # printing dtype of array\n",
        "print(\"Dimension of one_d_array is :\",arr.ndim, \"dimension(s)\") # printing dimension of array\n",
        "print(\"Size of one_d_array is :\",arr.size, \"elements\") # printing size of array\n",
        "print(\"Shape of one_d_array is :\",arr.shape) # printing shape of array (rows,columns)"
      ],
      "metadata": {
        "colab": {
          "base_uri": "https://localhost:8080/"
        },
        "id": "K_9_lhBraQjv",
        "outputId": "2a50f567-d378-4d8d-ea08-dd6c68ad4fff"
      },
      "execution_count": 9,
      "outputs": [
        {
          "output_type": "stream",
          "name": "stdout",
          "text": [
            "[[1. 1. 1. 1.]\n",
            " [1. 1. 1. 1.]\n",
            " [1. 1. 1. 1.]]\n",
            "------------------------------\n",
            "Information of this array :\n",
            "type(one_d_array) is : <class 'numpy.ndarray'>\n",
            "Dtype of one_d_array is : float64\n",
            "Dimension of one_d_array is : 2 dimension(s)\n",
            "Size of one_d_array is : 12 elements\n",
            "Shape of one_d_array is : (3, 4)\n"
          ]
        }
      ]
    },
    {
      "cell_type": "code",
      "source": [
        "# Crete one dimensional array using zeros()\n",
        "zeros_array = np.zeros(4, dtype=int) # create 1D array\n",
        "print(zeros_array) # printing 1d array\n",
        "print(\"------------------------------\")\n",
        "print(\"Information of this array :\")\n",
        "print(\"type(one_d_array) is :\",type(zeros_array)) # printing type of array\n",
        "print(\"Dtype of one_d_array is :\",zeros_array.dtype) # printing dtype of array\n",
        "print(\"Dimension of one_d_array is :\",zeros_array.ndim, \"dimension(s)\") # printing dimension of array\n",
        "print(\"Size of one_d_array is :\",zeros_array.size, \"elements\") # printing size of array\n",
        "print(\"Shape of one_d_array is :\",zeros_array.shape) # printing shape of array  (columns, )"
      ],
      "metadata": {
        "colab": {
          "base_uri": "https://localhost:8080/"
        },
        "id": "8a50nzMoc1MO",
        "outputId": "ce52e9cb-5bbc-4abb-e75e-f8e0f01aa15c"
      },
      "execution_count": 11,
      "outputs": [
        {
          "output_type": "stream",
          "name": "stdout",
          "text": [
            "[0 0 0 0]\n",
            "------------------------------\n",
            "Information of this array :\n",
            "type(one_d_array) is : <class 'numpy.ndarray'>\n",
            "Dtype of one_d_array is : int64\n",
            "Dimension of one_d_array is : 1 dimension(s)\n",
            "Size of one_d_array is : 4 elements\n",
            "Shape of one_d_array is : (4,)\n"
          ]
        }
      ]
    },
    {
      "cell_type": "code",
      "source": [
        "# Create two dimensional array using zeros()\n",
        "zeros_array = np.zeros((3, 4), dtype=float) # create 2D array\n",
        "print(zeros_array) # printing 2d array\n",
        "print(\"------------------------------\")\n",
        "print(\"Information of this array :\")\n",
        "print(\"type(one_d_array) is :\",type(zeros_array)) # printing type of array\n",
        "print(\"Dtype of one_d_array is :\",zeros_array.dtype) # printing dtype of array\n",
        "print(\"Dimension of one_d_array is :\",zeros_array.ndim, \"dimension(s)\") # printing dimension of array\n",
        "print(\"Size of one_d_array is :\",zeros_array.size, \"elements\") # printing size of array\n",
        "print(\"Shape of one_d_array is :\",zeros_array.shape) # printing shape of array  (rows, columns)"
      ],
      "metadata": {
        "colab": {
          "base_uri": "https://localhost:8080/"
        },
        "id": "nB8GNovydDsl",
        "outputId": "3dce53c7-e17c-40dd-c957-490c95cd494d"
      },
      "execution_count": 13,
      "outputs": [
        {
          "output_type": "stream",
          "name": "stdout",
          "text": [
            "[[0. 0. 0. 0.]\n",
            " [0. 0. 0. 0.]\n",
            " [0. 0. 0. 0.]]\n",
            "------------------------------\n",
            "Information of this array :\n",
            "type(one_d_array) is : <class 'numpy.ndarray'>\n",
            "Dtype of one_d_array is : float64\n",
            "Dimension of one_d_array is : 2 dimension(s)\n",
            "Size of one_d_array is : 12 elements\n",
            "Shape of one_d_array is : (3, 4)\n"
          ]
        }
      ]
    },
    {
      "cell_type": "code",
      "source": [
        "# Use empty()\n",
        "empty_array = np.empty((3, 4), dtype=bool, order='C') # create 2D array\n",
        "print(empty_array) # printing 2d array"
      ],
      "metadata": {
        "colab": {
          "base_uri": "https://localhost:8080/"
        },
        "id": "mWoKrgs7dYc6",
        "outputId": "4ec0183e-5f12-469a-c5d9-02a491973151"
      },
      "execution_count": 22,
      "outputs": [
        {
          "output_type": "stream",
          "name": "stdout",
          "text": [
            "[[False False False False]\n",
            " [False False False False]\n",
            " [False False False False]]\n"
          ]
        }
      ]
    }
  ]
}