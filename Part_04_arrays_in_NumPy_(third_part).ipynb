{
  "nbformat": 4,
  "nbformat_minor": 0,
  "metadata": {
    "colab": {
      "provenance": [],
      "authorship_tag": "ABX9TyNWhhaiUQjnQ9V6Egxcet2b",
      "include_colab_link": true
    },
    "kernelspec": {
      "name": "python3",
      "display_name": "Python 3"
    },
    "language_info": {
      "name": "python"
    }
  },
  "cells": [
    {
      "cell_type": "markdown",
      "metadata": {
        "id": "view-in-github",
        "colab_type": "text"
      },
      "source": [
        "<a href=\"https://colab.research.google.com/github/BENMEZIAN/NumPy-tutorial/blob/main/Part_04_arrays_in_NumPy_(third_part).ipynb\" target=\"_parent\"><img src=\"https://colab.research.google.com/assets/colab-badge.svg\" alt=\"Open In Colab\"/></a>"
      ]
    },
    {
      "cell_type": "code",
      "execution_count": 1,
      "metadata": {
        "id": "n3Htg80FfLQW"
      },
      "outputs": [],
      "source": [
        "import numpy as np"
      ]
    },
    {
      "cell_type": "code",
      "source": [
        "# Create one dimensional NumPy array, use np.arange()\n",
        "one_d_array = np.arange(10) # create 1D array\n",
        "print(\"One dimensional NumPy array :\",one_d_array)\n",
        "print(\"------------------------------\")\n",
        "print(\"Information of this array :\")\n",
        "print(\"type(one_d_array) is :\",type(one_d_array)) # printing type of array\n",
        "print(\"Dtype of one_d_array is :\",one_d_array.dtype) # printing dtype of array\n",
        "print(\"Dimension of one_d_array is :\",one_d_array.ndim, \"dimension(s)\") # printing dimension of array\n",
        "print(\"Size of one_d_array is :\",one_d_array.size, \"elements\") # printing size of array\n",
        "print(\"Shape of one_d_array is :\",one_d_array.shape) # printing shape of array  (columns, )"
      ],
      "metadata": {
        "colab": {
          "base_uri": "https://localhost:8080/"
        },
        "id": "_o2hBUmSfjF_",
        "outputId": "dc4cf9e9-549b-49e9-996c-8b90c324e451"
      },
      "execution_count": 3,
      "outputs": [
        {
          "output_type": "stream",
          "name": "stdout",
          "text": [
            "One dimensional NumPy array : [0 1 2 3 4 5 6 7 8 9]\n",
            "------------------------------\n",
            "Information of this array :\n",
            "type(one_d_array) is : <class 'numpy.ndarray'>\n",
            "Dtype of one_d_array is : int64\n",
            "Dimension of one_d_array is : 1 dimension(s)\n",
            "Size of one_d_array is : 10 elements\n",
            "Shape of one_d_array is : (10,)\n"
          ]
        }
      ]
    },
    {
      "cell_type": "code",
      "source": [
        "# Create array with linespace()\n",
        "linspace_array = np.linspace(0, 10, 5) # create array with linespace()\n",
        "print(\"Array with linespace() :\",linspace_array)\n",
        "print(\"------------------------------\")\n",
        "print(\"Information of this array :\")\n",
        "print(\"type(linspace_array) is :\",type(linspace_array)) # printing type of array\n",
        "print(\"Dtype of linspace_array is :\",linspace_array.dtype) # printing dtype of array\n",
        "print(\"Dimension of linspace_array is :\",linspace_array.ndim, \"dimension(s)\") # printing dimension of array\n",
        "print(\"Size of linspace_array is :\",linspace_array.size, \"elements\") # printing size of array\n",
        "print(\"Shape of linspace_array is :\",linspace_array.shape) # printing shape of array  (columns, )"
      ],
      "metadata": {
        "colab": {
          "base_uri": "https://localhost:8080/"
        },
        "id": "fOok9JU0gVSk",
        "outputId": "6cb859dd-5b20-4710-c1a0-3b863e0c64ee"
      },
      "execution_count": 5,
      "outputs": [
        {
          "output_type": "stream",
          "name": "stdout",
          "text": [
            "Array with linespace() : [ 0.   2.5  5.   7.5 10. ]\n",
            "------------------------------\n",
            "Information of this array :\n",
            "type(linspace_array) is : <class 'numpy.ndarray'>\n",
            "Dtype of linspace_array is : float64\n",
            "Dimension of linspace_array is : 1 dimension(s)\n",
            "Size of linspace_array is : 5 elements\n",
            "Shape of linspace_array is : (5,)\n"
          ]
        }
      ]
    },
    {
      "cell_type": "code",
      "source": [
        "# Reshape one_array\n",
        "reshaped_one_d_array = one_d_array.reshape(2, 5) # reshape 1D array to 2D array\n",
        "print(reshaped_one_d_array)"
      ],
      "metadata": {
        "colab": {
          "base_uri": "https://localhost:8080/"
        },
        "id": "oOX47pspg-20",
        "outputId": "48fa2282-6658-4399-c1a0-7a14a1f33b67"
      },
      "execution_count": 7,
      "outputs": [
        {
          "output_type": "stream",
          "name": "stdout",
          "text": [
            "[[0 1 2 3 4]\n",
            " [5 6 7 8 9]]\n"
          ]
        }
      ]
    },
    {
      "cell_type": "code",
      "source": [
        "# Reshape with three parameters, ensuring the product of dimensions matches the original array size\n",
        "reshaped_one_d_array_3 = one_d_array[:8].reshape(2, 2, 2)  # reshape a slice of the 1D array to 3D array\n",
        "print(reshaped_one_d_array_3)"
      ],
      "metadata": {
        "colab": {
          "base_uri": "https://localhost:8080/"
        },
        "id": "EV7z1mk7hhPX",
        "outputId": "2229dbf8-c969-4b85-f07d-cf8c18f0535e"
      },
      "execution_count": 11,
      "outputs": [
        {
          "output_type": "stream",
          "name": "stdout",
          "text": [
            "[[[0 1]\n",
            "  [2 3]]\n",
            "\n",
            " [[4 5]\n",
            "  [6 7]]]\n"
          ]
        }
      ]
    },
    {
      "cell_type": "code",
      "source": [
        "one_d_array = reshaped_one_d_array.ravel() # from 2D into 1D array\n",
        "print(one_d_array)"
      ],
      "metadata": {
        "colab": {
          "base_uri": "https://localhost:8080/"
        },
        "id": "NAhSo040i_Kx",
        "outputId": "cd0fd4a5-1886-4fbe-cdd2-0f744a7d0c82"
      },
      "execution_count": 15,
      "outputs": [
        {
          "output_type": "stream",
          "name": "stdout",
          "text": [
            "[0 1 2 3 4 5 6 7 8 9]\n"
          ]
        }
      ]
    },
    {
      "cell_type": "code",
      "source": [
        "one_d_array = reshaped_one_d_array_3.ravel() # from 3D into 2D array\n",
        "print(one_d_array)"
      ],
      "metadata": {
        "colab": {
          "base_uri": "https://localhost:8080/"
        },
        "id": "ga8pca00izPl",
        "outputId": "c0fae5dd-7966-45fa-8cc8-bf94f9497558"
      },
      "execution_count": 16,
      "outputs": [
        {
          "output_type": "stream",
          "name": "stdout",
          "text": [
            "[0 1 2 3 4 5 6 7]\n"
          ]
        }
      ]
    },
    {
      "cell_type": "code",
      "source": [
        "# flatten\n",
        "flattened_one_d_array = reshaped_one_d_array.flatten() # flatten 2D array to 1D array\n",
        "print(flattened_one_d_array)"
      ],
      "metadata": {
        "colab": {
          "base_uri": "https://localhost:8080/"
        },
        "id": "K5JjdA2UjeWU",
        "outputId": "747f5a3e-083e-4b26-c389-3ede8a07b924"
      },
      "execution_count": 18,
      "outputs": [
        {
          "output_type": "stream",
          "name": "stdout",
          "text": [
            "[0 1 2 3 4 5 6 7 8 9]\n"
          ]
        }
      ]
    },
    {
      "cell_type": "code",
      "source": [
        "# Create 2D array one do its transpose\n",
        "two_d_array = np.array([[1, 2, 3], [4, 5, 6]]) # create 2D array\n",
        "print(two_d_array)\n",
        "print(\"------------------------------\")\n",
        "print(\"Information of this array :\")\n",
        "print(\"type(two_d_array) is :\",type(two_d_array)) # printing type of array\n",
        "print(\"Dtype of two_d_array is :\",two_d_array.dtype) # printing dtype of array\n",
        "print(\"Dimension of two_d_array is :\",two_d_array.ndim, \"dimension(s)\") # printing dimension of array\n",
        "print(\"Size of two_d_array is :\",two_d_array.size, \"elements\") # printing size of array\n",
        "print(\"Shape of two_d_array is :\",two_d_array.shape) # printing shape of array  (rows, columns)\n",
        "print(\"Transpose of two_d_array is :\",two_d_array.T) # printing transpose of array"
      ],
      "metadata": {
        "colab": {
          "base_uri": "https://localhost:8080/"
        },
        "id": "EBSz6TOBjugM",
        "outputId": "7635ec7d-1ef5-4ef8-8746-e15b053f7c9d"
      },
      "execution_count": 21,
      "outputs": [
        {
          "output_type": "stream",
          "name": "stdout",
          "text": [
            "[[1 2 3]\n",
            " [4 5 6]]\n",
            "------------------------------\n",
            "Information of this array :\n",
            "type(two_d_array) is : <class 'numpy.ndarray'>\n",
            "Dtype of two_d_array is : int64\n",
            "Dimension of two_d_array is : 2 dimension(s)\n",
            "Size of two_d_array is : 6 elements\n",
            "Shape of two_d_array is : (2, 3)\n",
            "Transpose of two_d_array is : [[1 4]\n",
            " [2 5]\n",
            " [3 6]]\n"
          ]
        }
      ]
    }
  ]
}