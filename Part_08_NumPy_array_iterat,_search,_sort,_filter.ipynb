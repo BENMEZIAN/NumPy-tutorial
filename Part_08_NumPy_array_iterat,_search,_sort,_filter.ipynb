{
  "nbformat": 4,
  "nbformat_minor": 0,
  "metadata": {
    "colab": {
      "provenance": [],
      "authorship_tag": "ABX9TyPoWunZz7e0r8hensnp9Grr",
      "include_colab_link": true
    },
    "kernelspec": {
      "name": "python3",
      "display_name": "Python 3"
    },
    "language_info": {
      "name": "python"
    }
  },
  "cells": [
    {
      "cell_type": "markdown",
      "metadata": {
        "id": "view-in-github",
        "colab_type": "text"
      },
      "source": [
        "<a href=\"https://colab.research.google.com/github/BENMEZIAN/NumPy-tutorial/blob/main/Part_08_NumPy_array_iterat%2C_search%2C_sort%2C_filter.ipynb\" target=\"_parent\"><img src=\"https://colab.research.google.com/assets/colab-badge.svg\" alt=\"Open In Colab\"/></a>"
      ]
    },
    {
      "cell_type": "code",
      "execution_count": 3,
      "metadata": {
        "id": "u4dQHqUoYt6w"
      },
      "outputs": [],
      "source": [
        "import numpy as np"
      ]
    },
    {
      "cell_type": "markdown",
      "source": [
        "# Iterating arrays"
      ],
      "metadata": {
        "id": "P0-E5wsTmltb"
      }
    },
    {
      "cell_type": "code",
      "source": [
        "# iterating over array\n",
        "arr = np.array([1, 2, 3])\n",
        "td_arr = np.array([[1, 2, 3], [4, 5, 6]])\n",
        "\n",
        "print(\"1D array elements :\")\n",
        "for x in arr:\n",
        "  print(x)\n",
        "\n",
        "print(\"2D array elements (rows format):\")\n",
        "for x in td_arr:\n",
        "  print(x)\n",
        "\n",
        "print(\"2D array elements (individual elements format):\")\n",
        "for x in td_arr:\n",
        "  for y in x:\n",
        "    print(y)"
      ],
      "metadata": {
        "colab": {
          "base_uri": "https://localhost:8080/"
        },
        "id": "IOsBJTjWmkru",
        "outputId": "32ccb250-c10f-4fc9-f557-102cdb30c084"
      },
      "execution_count": 46,
      "outputs": [
        {
          "output_type": "stream",
          "name": "stdout",
          "text": [
            "1D array elements :\n",
            "1\n",
            "2\n",
            "3\n",
            "2D array elements (rows format):\n",
            "[1 2 3]\n",
            "[4 5 6]\n",
            "2D array elements (individual elements format):\n",
            "1\n",
            "2\n",
            "3\n",
            "4\n",
            "5\n",
            "6\n"
          ]
        }
      ]
    },
    {
      "cell_type": "markdown",
      "source": [
        "# Searching Arrays"
      ],
      "metadata": {
        "id": "TofEBsbLZh4-"
      }
    },
    {
      "cell_type": "code",
      "source": [
        "# You can search an array for a certain value, and return the indexes that get a match.\n",
        "arr = np.array([1, 2, 3, 4, 5, 4, 4])\n",
        "\n",
        "x = np.where(arr == 4)\n",
        "y = np.where(arr % 2 == 1)\n",
        "z = np.where(arr % 2 == 0)\n",
        "\n",
        "print(x)\n",
        "print(y)\n",
        "print(z)\n",
        "\n",
        "sorted_arr = np.array([1,2,3,4,5,6,7,8,9,10])\n",
        "\n",
        "s = np.searchsorted(sorted_arr, 7)\n",
        "s2 = np.searchsorted(sorted_arr, 7, side='right')\n",
        "\n",
        "print(s)\n",
        "print(s2) # the position right after the last occurrence of 7\n",
        "\n",
        "\n",
        "# print(arr[x]) # Output : [4 4 4]\n",
        "# print(arr[y]) # Output : [1 3 5]\n",
        "# print(arr[z]) # Output : [2 4 4 4]\n",
        "# print(sorted_arr[s]) # Output : 7\n",
        "# print(sorted_arr[s2]) # Output : 8"
      ],
      "metadata": {
        "colab": {
          "base_uri": "https://localhost:8080/"
        },
        "id": "lmhcvCH5ZgxY",
        "outputId": "0239f518-31db-42ed-fbda-897df2cb71f1"
      },
      "execution_count": 25,
      "outputs": [
        {
          "output_type": "stream",
          "name": "stdout",
          "text": [
            "(array([3, 5, 6]),)\n",
            "(array([0, 2, 4]),)\n",
            "(array([1, 3, 5, 6]),)\n",
            "6\n",
            "7\n"
          ]
        }
      ]
    },
    {
      "cell_type": "markdown",
      "source": [
        "# Sorting Arrays"
      ],
      "metadata": {
        "id": "7pQ5RyWRiY0H"
      }
    },
    {
      "cell_type": "code",
      "source": [
        "arr = np.array([3, 2, 0, 1])\n",
        "\n",
        "print(np.sort(arr))"
      ],
      "metadata": {
        "colab": {
          "base_uri": "https://localhost:8080/"
        },
        "id": "HesiUKL9ifGT",
        "outputId": "814eab20-e790-4484-ba45-33b58ab66882"
      },
      "execution_count": 26,
      "outputs": [
        {
          "output_type": "stream",
          "name": "stdout",
          "text": [
            "[0 1 2 3]\n"
          ]
        }
      ]
    },
    {
      "cell_type": "code",
      "source": [
        "arr = np.array(['banana', 'cherry', 'apple'])\n",
        "\n",
        "print(np.sort(arr)) # With alphabetical order"
      ],
      "metadata": {
        "colab": {
          "base_uri": "https://localhost:8080/"
        },
        "id": "PW8xuqgLimVQ",
        "outputId": "d3ab75a3-ca3f-40be-fa90-fe3c9904fe6c"
      },
      "execution_count": 27,
      "outputs": [
        {
          "output_type": "stream",
          "name": "stdout",
          "text": [
            "['apple' 'banana' 'cherry']\n"
          ]
        }
      ]
    },
    {
      "cell_type": "code",
      "source": [
        "arr = np.array([True, False, True, False])\n",
        "\n",
        "print(np.sort(arr))"
      ],
      "metadata": {
        "colab": {
          "base_uri": "https://localhost:8080/"
        },
        "id": "IvjV7d-diwaZ",
        "outputId": "187f5f28-ab7f-433b-8fa2-c3f0ba5cbf81"
      },
      "execution_count": 29,
      "outputs": [
        {
          "output_type": "stream",
          "name": "stdout",
          "text": [
            "[False False  True  True]\n"
          ]
        }
      ]
    },
    {
      "cell_type": "code",
      "source": [
        "arr = np.array([[3, 2, 4], [5, 0, 1]])\n",
        "\n",
        "print(np.sort(arr))"
      ],
      "metadata": {
        "colab": {
          "base_uri": "https://localhost:8080/"
        },
        "id": "tgbPJVfOi82R",
        "outputId": "4c76a795-4774-41d9-b1c9-0143bf7bebe7"
      },
      "execution_count": 32,
      "outputs": [
        {
          "output_type": "stream",
          "name": "stdout",
          "text": [
            "[[2 3 4]\n",
            " [0 1 5]]\n"
          ]
        }
      ]
    },
    {
      "cell_type": "markdown",
      "source": [
        "# Filtering Arrays"
      ],
      "metadata": {
        "id": "L_8-GLdjjMg5"
      }
    },
    {
      "cell_type": "code",
      "source": [
        "arr = np.array([41, 42, 43, 44])\n",
        "\n",
        "x = [True, False, True, False]\n",
        "\n",
        "newarr = arr[x]\n",
        "\n",
        "print(newarr)"
      ],
      "metadata": {
        "colab": {
          "base_uri": "https://localhost:8080/"
        },
        "id": "vC891-GGjdsf",
        "outputId": "c8a7602f-3347-4a6c-e5cb-3391bb5f2563"
      },
      "execution_count": 33,
      "outputs": [
        {
          "output_type": "stream",
          "name": "stdout",
          "text": [
            "[41 43]\n"
          ]
        }
      ]
    },
    {
      "cell_type": "code",
      "source": [
        "arr = np.array([41, 42, 43, 44])\n",
        "\n",
        "# Create an empty list\n",
        "filter_arr = []\n",
        "\n",
        "# go through each element in arr\n",
        "for element in arr:\n",
        "  # if the element is higher than 42, set the value to True, otherwise False:\n",
        "  if element > 42:\n",
        "    filter_arr.append(True)\n",
        "  else:\n",
        "    filter_arr.append(False)\n",
        "\n",
        "newarr = arr[filter_arr]\n",
        "\n",
        "print(filter_arr)\n",
        "print(newarr)"
      ],
      "metadata": {
        "colab": {
          "base_uri": "https://localhost:8080/"
        },
        "id": "7tJjZb--jm2S",
        "outputId": "0c5ae80f-3337-41a8-9241-3dfcd971b06e"
      },
      "execution_count": 35,
      "outputs": [
        {
          "output_type": "stream",
          "name": "stdout",
          "text": [
            "[False, False, True, True]\n",
            "[43 44]\n"
          ]
        }
      ]
    },
    {
      "cell_type": "code",
      "source": [
        "# Create a filter array that will return only even elements from the original array\n",
        "arr = np.array([1, 2, 3, 4, 5, 6, 7])\n",
        "\n",
        "# Create an empty list\n",
        "filter_arr = []\n",
        "\n",
        "# go through each element in arr\n",
        "for element in arr:\n",
        "  # if the element is completely divisble by 2, set the value to True, otherwise False\n",
        "  if element % 2 == 0:\n",
        "    filter_arr.append(True)\n",
        "  else:\n",
        "    filter_arr.append(False)\n",
        "\n",
        "newarr = arr[filter_arr]\n",
        "\n",
        "print(filter_arr)\n",
        "print(newarr)"
      ],
      "metadata": {
        "colab": {
          "base_uri": "https://localhost:8080/"
        },
        "id": "RC13GYvbj5D2",
        "outputId": "2f7ebb9c-c42a-4c91-9a7d-35dc4adda7a5"
      },
      "execution_count": 36,
      "outputs": [
        {
          "output_type": "stream",
          "name": "stdout",
          "text": [
            "[False, True, False, True, False, True, False]\n",
            "[2 4 6]\n"
          ]
        }
      ]
    },
    {
      "cell_type": "code",
      "source": [
        "# Create an array\n",
        "array = np.array([1, 2, 3, 4, 5, 6, 7, 8, 9])\n",
        "\n",
        "filtered_array = array[array > 5] # Filter elements greater than 5\n",
        "even_numbers = array[array % 2 == 0] # Filter even numbers\n",
        "odd_numbers = array[array % 2 != 0] # Filter odd numbers\n",
        "filtered_array2 = array[np.logical_and(array > 5, array % 2 == 0)] # Filter even numbers greater than 5\n",
        "filtered_array3 = array[np.logical_or(array > 5, array % 2 == 0)] # Filter elements greater than 5 or even numbers\n",
        "filtered_array4 = array[np.logical_not(array > 5)] # Filter elements not greater than 5\n",
        "filtered_array5 = array[(array > 5) & (array % 2 == 0)] # Filter even numbers greater than 5\n",
        "filtered_array6 = array[(array > 5) | (array % 2 == 0)] # Filter elements greater than 5 or even numbers\n",
        "filtered_array7 = array[~(array > 5)] # Filter elements not greater than 5\n",
        "filtered_array8 = array[np.isin(array, [1, 3, 5])] # Filter elements that are in [1, 3, 5]\n",
        "\n",
        "print(\"Greater than 5 : \",filtered_array)  # Output: [6 7 8 9]\n",
        "print(\"Even numbers : \",even_numbers)  # Output: [2 4 6 8]\n",
        "print(\"Odd numbers : \",odd_numbers)  # Output: [1 3 5 7 9]\n",
        "print(\"Even numbers greater than 5 : \",filtered_array2)  # Output: [6 8]\n",
        "print(\"Elements greater than 5 or even numbers : \",filtered_array3)  # Output: [2 4 6 7 8 9]\n",
        "print(\"Elements not greater than 5 : \",filtered_array4)  # Output: [1 2 3 4 5]\n",
        "print(\"Even numbers greater than 5 : \",filtered_array5)  # Output: [6 8]\n",
        "print(\"Elements greater than 5 or even numbers : \",filtered_array6)  # Output: [2 4 6 7 8 9]\n",
        "print(\"Elements not greater than 5 : \",filtered_array7)  # Output: [1 2 3 4 5]\n",
        "print(\"Elements that are in [1, 3, 5] : \",filtered_array8)  # Output: [1 3 5]"
      ],
      "metadata": {
        "colab": {
          "base_uri": "https://localhost:8080/"
        },
        "id": "JCQpiTfnkOhp",
        "outputId": "5ef9827c-1688-4f38-8c19-43e91a2c15fe"
      },
      "execution_count": 41,
      "outputs": [
        {
          "output_type": "stream",
          "name": "stdout",
          "text": [
            "Greater than 5 :  [6 7 8 9]\n",
            "Even numbers :  [2 4 6 8]\n",
            "Odd numbers :  [1 3 5 7 9]\n",
            "Even numbers greater than 5 :  [6 8]\n",
            "Elements greater than 5 or even numbers :  [2 4 6 7 8 9]\n",
            "Elements not greater than 5 :  [1 2 3 4 5]\n",
            "Even numbers greater than 5 :  [6 8]\n",
            "Elements greater than 5 or even numbers :  [2 4 6 7 8 9]\n",
            "Elements not greater than 5 :  [1 2 3 4 5]\n",
            "Elements that are in [1, 3, 5] :  [1 3 5]\n"
          ]
        }
      ]
    },
    {
      "cell_type": "code",
      "source": [],
      "metadata": {
        "id": "cEezW5Lxkmhw"
      },
      "execution_count": null,
      "outputs": []
    }
  ]
}