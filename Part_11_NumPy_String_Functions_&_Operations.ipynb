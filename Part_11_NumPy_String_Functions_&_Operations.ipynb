{
  "nbformat": 4,
  "nbformat_minor": 0,
  "metadata": {
    "colab": {
      "provenance": [],
      "authorship_tag": "ABX9TyPg8u3GOW+vqfAEcVB4vSh3",
      "include_colab_link": true
    },
    "kernelspec": {
      "name": "python3",
      "display_name": "Python 3"
    },
    "language_info": {
      "name": "python"
    }
  },
  "cells": [
    {
      "cell_type": "markdown",
      "metadata": {
        "id": "view-in-github",
        "colab_type": "text"
      },
      "source": [
        "<a href=\"https://colab.research.google.com/github/BENMEZIAN/NumPy-tutorial/blob/main/Part_11_NumPy_String_Functions_%26_Operations.ipynb\" target=\"_parent\"><img src=\"https://colab.research.google.com/assets/colab-badge.svg\" alt=\"Open In Colab\"/></a>"
      ]
    },
    {
      "cell_type": "code",
      "execution_count": 1,
      "metadata": {
        "id": "gPtFkATMCCoc"
      },
      "outputs": [],
      "source": [
        "import numpy as np"
      ]
    },
    {
      "cell_type": "code",
      "source": [
        "# What are the string functions in numpy\n",
        "\n",
        "str_arr = np.array(['hello', 'world', 'numpy', 'pandas', 'scikit-learn', 'matplotlib', 'seaborn', 'plotly', 'bokeh', 'ggplot'])\n",
        "print(str_arr)\n",
        "\n",
        "# apply the methods\n",
        "print(\"add() : \",np.char.add(str_arr, ' world')) # add ' world' to the end of the string\n",
        "print(\"multiply() : \",np.char.multiply(str_arr[0], 2)) # multiply the same string by 2\n",
        "print(\"capitalize() : \",np.char.capitalize(str_arr)) # capitalize the first letter of each string\n",
        "print(\"center() : \",np.char.center(str_arr[0], 20, fillchar='*')) # center the string with '*' as fillchar\n",
        "print(\"join() : \",np.char.join('-', str_arr)) # join the string with '-' and '_'\n",
        "print(\"join() : \",np.char.join('_', str_arr)) # join the string with '-' and '_'\n",
        "print(\"lower() : \",np.char.lower(str_arr)) # convert the string to lowercase\n",
        "print(\"upper() : \",np.char.upper(str_arr)) # convert the string to uppercase\n",
        "print(\"replace() : \",np.char.replace(str_arr, 'o', '0')) # replace 'o' with '0'\n",
        "print(\"split(str_arr[0]) : \",np.char.split(str_arr[0])) # split the string by ' '\n",
        "print(\"split(str_arr[1]) : \",np.char.split(str_arr[1])) # split the string by ' '\n",
        "print(\"splitlines('hello\\nworld') : \",np.char.splitlines('hello\\nworld')) # split the string by '\\n'\n",
        "print(\"title() : \",np.char.title(str_arr)) # convert the string to title case\n",
        "print(\"equal() : \",np.char.equal(str_arr, 'hello')) # check if the string is equal to 'hello'\n",
        "print(\"not_equal() : \",np.char.not_equal(str_arr, 'hello')) # check if the string is not equal to 'hello'\n",
        "print(\"count() : \",np.char.count(str_arr, 'o')) # count the number of 'o' in the string\n",
        "print(\"find() : \",np.char.find(str_arr, 'o')) # find the index of 'o' in the string"
      ],
      "metadata": {
        "colab": {
          "base_uri": "https://localhost:8080/"
        },
        "id": "7P78od2rCSY-",
        "outputId": "f4e28e7b-151c-4780-f7f7-8ad1d61e019a"
      },
      "execution_count": 30,
      "outputs": [
        {
          "output_type": "stream",
          "name": "stdout",
          "text": [
            "['hello' 'world' 'numpy' 'pandas' 'scikit-learn' 'matplotlib' 'seaborn'\n",
            " 'plotly' 'bokeh' 'ggplot']\n",
            "add() :  ['hello world' 'world world' 'numpy world' 'pandas world'\n",
            " 'scikit-learn world' 'matplotlib world' 'seaborn world' 'plotly world'\n",
            " 'bokeh world' 'ggplot world']\n",
            "multiply() :  hellohello\n",
            "capitalize() :  ['Hello' 'World' 'Numpy' 'Pandas' 'Scikit-learn' 'Matplotlib' 'Seaborn'\n",
            " 'Plotly' 'Bokeh' 'Ggplot']\n",
            "center() :  *******hello********\n",
            "join() :  ['h-e-l-l-o' 'w-o-r-l-d' 'n-u-m-p-y' 'p-a-n-d-a-s'\n",
            " 's-c-i-k-i-t---l-e-a-r-n' 'm-a-t-p-l-o-t-l-i-b' 's-e-a-b-o-r-n'\n",
            " 'p-l-o-t-l-y' 'b-o-k-e-h' 'g-g-p-l-o-t']\n",
            "join() :  ['h_e_l_l_o' 'w_o_r_l_d' 'n_u_m_p_y' 'p_a_n_d_a_s'\n",
            " 's_c_i_k_i_t_-_l_e_a_r_n' 'm_a_t_p_l_o_t_l_i_b' 's_e_a_b_o_r_n'\n",
            " 'p_l_o_t_l_y' 'b_o_k_e_h' 'g_g_p_l_o_t']\n",
            "lower() :  ['hello' 'world' 'numpy' 'pandas' 'scikit-learn' 'matplotlib' 'seaborn'\n",
            " 'plotly' 'bokeh' 'ggplot']\n",
            "upper() :  ['HELLO' 'WORLD' 'NUMPY' 'PANDAS' 'SCIKIT-LEARN' 'MATPLOTLIB' 'SEABORN'\n",
            " 'PLOTLY' 'BOKEH' 'GGPLOT']\n",
            "replace() :  ['hell0' 'w0rld' 'numpy' 'pandas' 'scikit-learn' 'matpl0tlib' 'seab0rn'\n",
            " 'pl0tly' 'b0keh' 'ggpl0t']\n",
            "split(str_arr[0]) :  ['hello']\n",
            "split(str_arr[1]) :  ['world']\n",
            "splitlines('hello\n",
            "world') :  ['hello', 'world']\n",
            "title() :  ['Hello' 'World' 'Numpy' 'Pandas' 'Scikit-Learn' 'Matplotlib' 'Seaborn'\n",
            " 'Plotly' 'Bokeh' 'Ggplot']\n",
            "equal() :  [ True False False False False False False False False False]\n",
            "not_equal() :  [False  True  True  True  True  True  True  True  True  True]\n",
            "count() :  [1 1 0 0 0 1 1 1 1 1]\n",
            "find() :  [ 4  1 -1 -1 -1  5  4  2  1  4]\n"
          ]
        }
      ]
    },
    {
      "cell_type": "code",
      "source": [
        "#1. np.char.add()\n",
        "#2. np.char.multiply()\n",
        "#3. np.char.capitalize()\n",
        "#4. np.char.center()\n",
        "#5. np.char.join()\n",
        "#6. np.char.lower()\n",
        "#7. np.char.upper()\n",
        "#8. np.char.replace()\n",
        "#9. np.char.split()\n",
        "#10. np.char.splitlines()\n",
        "#11. np.char.title()\n",
        "#12. np.char.equal()\n",
        "#13. np.char.not_equal()\n",
        "#14. np.char.count()\n",
        "#15. np.char.find()"
      ],
      "metadata": {
        "id": "ESoco2sLClht"
      },
      "execution_count": 32,
      "outputs": []
    }
  ]
}