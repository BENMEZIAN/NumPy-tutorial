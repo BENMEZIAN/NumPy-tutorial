{
  "nbformat": 4,
  "nbformat_minor": 0,
  "metadata": {
    "colab": {
      "provenance": [],
      "authorship_tag": "ABX9TyOiPwqkonw58b17tsmZJJeG",
      "include_colab_link": true
    },
    "kernelspec": {
      "name": "python3",
      "display_name": "Python 3"
    },
    "language_info": {
      "name": "python"
    }
  },
  "cells": [
    {
      "cell_type": "markdown",
      "metadata": {
        "id": "view-in-github",
        "colab_type": "text"
      },
      "source": [
        "<a href=\"https://colab.research.google.com/github/BENMEZIAN/NumPy-tutorial/blob/main/Part_11_NumPy_String_Functions_%26_Operations.ipynb\" target=\"_parent\"><img src=\"https://colab.research.google.com/assets/colab-badge.svg\" alt=\"Open In Colab\"/></a>"
      ]
    },
    {
      "cell_type": "code",
      "execution_count": 1,
      "metadata": {
        "id": "gPtFkATMCCoc"
      },
      "outputs": [],
      "source": [
        "import numpy as np"
      ]
    },
    {
      "cell_type": "code",
      "source": [
        "# What are the string functions in numpy\n",
        "\n",
        "str_arr = np.array(['hello', 'world', 'numpy', 'pandas', 'scikit-learn', 'matplotlib', 'seaborn', 'plotly', 'bokeh', 'ggplot'])\n",
        "print(str_arr)\n",
        "\n",
        "# apply the methods\n",
        "print(\"add() : \",np.char.add(str_arr, ' world')) # add ' world' to the end of the string\n",
        "print(\"multiply() : \",np.char.multiply(str_arr[0], 2)) # multiply the same string by 2\n",
        "print(\"capitalize() : \",np.char.capitalize(str_arr)) # capitalize the first letter of each string\n",
        "print(\"center() : \",np.char.center(str_arr[0], 20, fillchar='*')) # center the string with '*' as fillchar\n",
        "print(\"join() : \",np.char.join('-', str_arr)) # join the string with '-' and '_'\n",
        "print(\"join() : \",np.char.join('_', str_arr)) # join the string with '-' and '_'\n",
        "print(\"lower() : \",np.char.lower(str_arr)) # convert the string to lowercase\n",
        "print(\"upper() : \",np.char.upper(str_arr)) # convert the string to uppercase\n",
        "print(\"replace() : \",np.char.replace(str_arr, 'o', '0')) # replace 'o' with '0'\n",
        "print(\"split(str_arr[0]) : \",np.char.split(str_arr[0])) # split the string by ' '\n",
        "print(\"split(str_arr[1]) : \",np.char.split(str_arr[1])) # split the string by ' '\n",
        "print(\"splitlines('hello\\nworld') : \",np.char.splitlines('hello\\nworld')) # split the string by '\\n'\n",
        "print(\"title() : \",np.char.title(str_arr)) # convert the string to title case\n",
        "print(\"equal() : \",np.char.equal(str_arr, 'hello')) # check if the string is equal to 'hello'\n",
        "print(\"not_equal() : \",np.char.not_equal(str_arr, 'hello')) # check if the string is not equal to 'hello'\n",
        "print(\"count() : \",np.char.count(str_arr, 'o')) # count the number of 'o' in the string\n",
        "print(\"find() : \",np.char.find(str_arr, 'o')) # find the index of 'o' in the string\n",
        "#print(\"index() : \",np.char.index(str_arr, 'o')) # find the index of 'o' in the string\n",
        "print(\"rfind() : \",np.char.rfind(str_arr, 'o')) # find the index of 'o' in the string from right to left\n",
        "#print(\"rindex() : \",np.char.rindex(str_arr, 'o')) # find the index of 'o' in the string from right to left\n",
        "print(\"islower() : \",np.char.islower(str_arr)) # check if the string is lowercase\n",
        "print(\"isupper() : \",np.char.isupper(str_arr)) # check if the string is uppercase\n",
        "print(\"istitle() : \",np.char.istitle(str_arr)) # check if the string is title case\n",
        "print(\"isalpha() : \",np.char.isalpha(str_arr)) # check if the string is alphabetic\n",
        "print(\"isdigit() : \",np.char.isdigit(str_arr)) # check if the string is digit\n",
        "print(\"isalnum() : \",np.char.isalnum(str_arr)) # check if the string is alphanumeric\n",
        "print(\"isspace() : \",np.char.isspace(str_arr)) # check if the string is space\n",
        "print(\"isnumeric() : \",np.char.isnumeric(str_arr)) # check if the string is numeric\n",
        "print(\"isdecimal() : \",np.char.isdecimal(str_arr)) # check if the string is decimal\n",
        "print(\"startswith() : \",np.char.startswith(str_arr, 'h')) # check if the string starts with 'h'\n",
        "print(\"endswith() : \",np.char.endswith(str_arr, 'd')) # check if the string ends with 'd'\n",
        "print(\"strip() : \",np.char.strip(str_arr)) # remove the leading and trailing spaces from the string\n",
        "print(\"rstrip() : \",np.char.rstrip(str_arr)) # remove the trailing spaces from the string\n",
        "print(\"lstrip() : \",np.char.lstrip(str_arr)) # remove the leading spaces from the string\n",
        "print(\"swapcase() : \",np.char.swapcase(str_arr)) # swap the case of the string\n",
        "print(\"zfill() : \",np.char.zfill(str_arr, 10)) # fill the string with '0' to make the length of the string 10\n",
        "print(\"partition() : \",np.char.partition(str_arr, 'o')) # partition the string by 'o'\n",
        "print(\"rpartition() : \",np.char.rpartition(str_arr, 'o')) # partition the string by 'o' from right to left"
      ],
      "metadata": {
        "colab": {
          "base_uri": "https://localhost:8080/"
        },
        "id": "7P78od2rCSY-",
        "outputId": "69ab80d7-fc00-4561-e975-1c041e2464e6"
      },
      "execution_count": 39,
      "outputs": [
        {
          "output_type": "stream",
          "name": "stdout",
          "text": [
            "['hello' 'world' 'numpy' 'pandas' 'scikit-learn' 'matplotlib' 'seaborn'\n",
            " 'plotly' 'bokeh' 'ggplot']\n",
            "add() :  ['hello world' 'world world' 'numpy world' 'pandas world'\n",
            " 'scikit-learn world' 'matplotlib world' 'seaborn world' 'plotly world'\n",
            " 'bokeh world' 'ggplot world']\n",
            "multiply() :  hellohello\n",
            "capitalize() :  ['Hello' 'World' 'Numpy' 'Pandas' 'Scikit-learn' 'Matplotlib' 'Seaborn'\n",
            " 'Plotly' 'Bokeh' 'Ggplot']\n",
            "center() :  *******hello********\n",
            "join() :  ['h-e-l-l-o' 'w-o-r-l-d' 'n-u-m-p-y' 'p-a-n-d-a-s'\n",
            " 's-c-i-k-i-t---l-e-a-r-n' 'm-a-t-p-l-o-t-l-i-b' 's-e-a-b-o-r-n'\n",
            " 'p-l-o-t-l-y' 'b-o-k-e-h' 'g-g-p-l-o-t']\n",
            "join() :  ['h_e_l_l_o' 'w_o_r_l_d' 'n_u_m_p_y' 'p_a_n_d_a_s'\n",
            " 's_c_i_k_i_t_-_l_e_a_r_n' 'm_a_t_p_l_o_t_l_i_b' 's_e_a_b_o_r_n'\n",
            " 'p_l_o_t_l_y' 'b_o_k_e_h' 'g_g_p_l_o_t']\n",
            "lower() :  ['hello' 'world' 'numpy' 'pandas' 'scikit-learn' 'matplotlib' 'seaborn'\n",
            " 'plotly' 'bokeh' 'ggplot']\n",
            "upper() :  ['HELLO' 'WORLD' 'NUMPY' 'PANDAS' 'SCIKIT-LEARN' 'MATPLOTLIB' 'SEABORN'\n",
            " 'PLOTLY' 'BOKEH' 'GGPLOT']\n",
            "replace() :  ['hell0' 'w0rld' 'numpy' 'pandas' 'scikit-learn' 'matpl0tlib' 'seab0rn'\n",
            " 'pl0tly' 'b0keh' 'ggpl0t']\n",
            "split(str_arr[0]) :  ['hello']\n",
            "split(str_arr[1]) :  ['world']\n",
            "splitlines('hello\n",
            "world') :  ['hello', 'world']\n",
            "title() :  ['Hello' 'World' 'Numpy' 'Pandas' 'Scikit-Learn' 'Matplotlib' 'Seaborn'\n",
            " 'Plotly' 'Bokeh' 'Ggplot']\n",
            "equal() :  [ True False False False False False False False False False]\n",
            "not_equal() :  [False  True  True  True  True  True  True  True  True  True]\n",
            "count() :  [1 1 0 0 0 1 1 1 1 1]\n",
            "find() :  [ 4  1 -1 -1 -1  5  4  2  1  4]\n",
            "rfind() :  [ 4  1 -1 -1 -1  5  4  2  1  4]\n",
            "islower() :  [ True  True  True  True  True  True  True  True  True  True]\n",
            "isupper() :  [False False False False False False False False False False]\n",
            "istitle() :  [False False False False False False False False False False]\n",
            "isalpha() :  [ True  True  True  True False  True  True  True  True  True]\n",
            "isdigit() :  [False False False False False False False False False False]\n",
            "isalnum() :  [ True  True  True  True False  True  True  True  True  True]\n",
            "isspace() :  [False False False False False False False False False False]\n",
            "isnumeric() :  [False False False False False False False False False False]\n",
            "isdecimal() :  [False False False False False False False False False False]\n",
            "startswith() :  [ True False False False False False False False False False]\n",
            "endswith() :  [False  True False False False False False False False False]\n",
            "strip() :  ['hello' 'world' 'numpy' 'pandas' 'scikit-learn' 'matplotlib' 'seaborn'\n",
            " 'plotly' 'bokeh' 'ggplot']\n",
            "rstrip() :  ['hello' 'world' 'numpy' 'pandas' 'scikit-learn' 'matplotlib' 'seaborn'\n",
            " 'plotly' 'bokeh' 'ggplot']\n",
            "lstrip() :  ['hello' 'world' 'numpy' 'pandas' 'scikit-learn' 'matplotlib' 'seaborn'\n",
            " 'plotly' 'bokeh' 'ggplot']\n",
            "swapcase() :  ['HELLO' 'WORLD' 'NUMPY' 'PANDAS' 'SCIKIT-LEARN' 'MATPLOTLIB' 'SEABORN'\n",
            " 'PLOTLY' 'BOKEH' 'GGPLOT']\n",
            "zfill() :  ['00000hello' '00000world' '00000numpy' '0000pandas' 'scikit-lea'\n",
            " 'matplotlib' '000seaborn' '0000plotly' '00000bokeh' '0000ggplot']\n",
            "partition() :  [['hell' 'o' '']\n",
            " ['w' 'o' 'rld']\n",
            " ['numpy' '' '']\n",
            " ['pandas' '' '']\n",
            " ['scikit-learn' '' '']\n",
            " ['matpl' 'o' 'tlib']\n",
            " ['seab' 'o' 'rn']\n",
            " ['pl' 'o' 'tly']\n",
            " ['b' 'o' 'keh']\n",
            " ['ggpl' 'o' 't']]\n",
            "rpartition() :  [['hell' 'o' '']\n",
            " ['w' 'o' 'rld']\n",
            " ['' '' 'numpy']\n",
            " ['' '' 'pandas']\n",
            " ['' '' 'scikit-learn']\n",
            " ['matpl' 'o' 'tlib']\n",
            " ['seab' 'o' 'rn']\n",
            " ['pl' 'o' 'tly']\n",
            " ['b' 'o' 'keh']\n",
            " ['ggpl' 'o' 't']]\n"
          ]
        }
      ]
    },
    {
      "cell_type": "code",
      "source": [
        "#1. np.char.add()\n",
        "#2. np.char.multiply()\n",
        "#3. np.char.capitalize()\n",
        "#4. np.char.center()\n",
        "#5. np.char.join()\n",
        "#6. np.char.lower()\n",
        "#7. np.char.upper()\n",
        "#8. np.char.replace()\n",
        "#9. np.char.split()\n",
        "#10. np.char.splitlines()\n",
        "#11. np.char.title()\n",
        "#12. np.char.equal()\n",
        "#13. np.char.not_equal()\n",
        "#14. np.char.count()\n",
        "#15. np.char.find()"
      ],
      "metadata": {
        "id": "ESoco2sLClht"
      },
      "execution_count": 32,
      "outputs": []
    }
  ]
}