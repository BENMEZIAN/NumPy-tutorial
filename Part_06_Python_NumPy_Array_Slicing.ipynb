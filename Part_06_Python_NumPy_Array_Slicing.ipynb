{
  "nbformat": 4,
  "nbformat_minor": 0,
  "metadata": {
    "colab": {
      "provenance": [],
      "authorship_tag": "ABX9TyOanV1AcLp9xaBkk7iH5VgI",
      "include_colab_link": true
    },
    "kernelspec": {
      "name": "python3",
      "display_name": "Python 3"
    },
    "language_info": {
      "name": "python"
    }
  },
  "cells": [
    {
      "cell_type": "markdown",
      "metadata": {
        "id": "view-in-github",
        "colab_type": "text"
      },
      "source": [
        "<a href=\"https://colab.research.google.com/github/BENMEZIAN/NumPy-tutorial/blob/main/Part_06_Python_NumPy_Array_Slicing.ipynb\" target=\"_parent\"><img src=\"https://colab.research.google.com/assets/colab-badge.svg\" alt=\"Open In Colab\"/></a>"
      ]
    },
    {
      "cell_type": "code",
      "execution_count": 1,
      "metadata": {
        "id": "JnKto6HOABGM"
      },
      "outputs": [],
      "source": [
        "import numpy as np"
      ]
    },
    {
      "cell_type": "code",
      "source": [
        "# Create one dimensioanl array\n",
        "one_dim_array = np.array([1, 2, 3, 4, 5, 6, 7, 8, 9, 10])\n",
        "print(one_dim_array)"
      ],
      "metadata": {
        "colab": {
          "base_uri": "https://localhost:8080/"
        },
        "id": "Utp9O25zAWnt",
        "outputId": "89f26195-648b-4bd7-cf39-05e92aa629df"
      },
      "execution_count": 2,
      "outputs": [
        {
          "output_type": "stream",
          "name": "stdout",
          "text": [
            "[ 1  2  3  4  5  6  7  8  9 10]\n"
          ]
        }
      ]
    },
    {
      "cell_type": "code",
      "source": [
        "# How to access an element\n",
        "print(one_dim_array[0])\n",
        "print(one_dim_array[1])\n",
        "print(one_dim_array[2])\n",
        "print(one_dim_array[3])"
      ],
      "metadata": {
        "colab": {
          "base_uri": "https://localhost:8080/"
        },
        "id": "HML77PrAAiv5",
        "outputId": "e6004d3e-1ce8-4aff-9126-c94eabaab602"
      },
      "execution_count": 4,
      "outputs": [
        {
          "output_type": "stream",
          "name": "stdout",
          "text": [
            "1\n",
            "2\n",
            "3\n",
            "4\n"
          ]
        }
      ]
    },
    {
      "cell_type": "code",
      "source": [
        "# Create array with arange function\n",
        "arr_arange = np.arange(1, 101).reshape(10, 10)\n",
        "print(arr_arange)"
      ],
      "metadata": {
        "colab": {
          "base_uri": "https://localhost:8080/"
        },
        "id": "v4SCQo5cA6Sd",
        "outputId": "42bd65d7-9d8c-4d4f-e0ec-d53c2abf3f0f"
      },
      "execution_count": 5,
      "outputs": [
        {
          "output_type": "stream",
          "name": "stdout",
          "text": [
            "[[  1   2   3   4   5   6   7   8   9  10]\n",
            " [ 11  12  13  14  15  16  17  18  19  20]\n",
            " [ 21  22  23  24  25  26  27  28  29  30]\n",
            " [ 31  32  33  34  35  36  37  38  39  40]\n",
            " [ 41  42  43  44  45  46  47  48  49  50]\n",
            " [ 51  52  53  54  55  56  57  58  59  60]\n",
            " [ 61  62  63  64  65  66  67  68  69  70]\n",
            " [ 71  72  73  74  75  76  77  78  79  80]\n",
            " [ 81  82  83  84  85  86  87  88  89  90]\n",
            " [ 91  92  93  94  95  96  97  98  99 100]]\n"
          ]
        }
      ]
    },
    {
      "cell_type": "code",
      "source": [
        "print(arr_arange[0]) # first row\n",
        "print(arr_arange[1]) # second row\n",
        "print(arr_arange[2]) # third row\n",
        "print(arr_arange[3]) # fourth row"
      ],
      "metadata": {
        "colab": {
          "base_uri": "https://localhost:8080/"
        },
        "id": "obglNbz-BO9M",
        "outputId": "161a4c6e-0b20-4474-c9a0-75a677efc17a"
      },
      "execution_count": 9,
      "outputs": [
        {
          "output_type": "stream",
          "name": "stdout",
          "text": [
            "[ 1  2  3  4  5  6  7  8  9 10]\n",
            "[11 12 13 14 15 16 17 18 19 20]\n",
            "[21 22 23 24 25 26 27 28 29 30]\n",
            "[31 32 33 34 35 36 37 38 39 40]\n"
          ]
        }
      ]
    },
    {
      "cell_type": "code",
      "source": [
        "print(arr_arange[0][0]) # first element of first row\n",
        "print(arr_arange[0][1]) # second element of first row\n",
        "print(arr_arange[0][2]) # third element of first row"
      ],
      "metadata": {
        "colab": {
          "base_uri": "https://localhost:8080/"
        },
        "id": "7vrhDZ6GBtbq",
        "outputId": "bb579fce-af9b-431d-8b97-81a2f7af6703"
      },
      "execution_count": 10,
      "outputs": [
        {
          "output_type": "stream",
          "name": "stdout",
          "text": [
            "1\n",
            "2\n",
            "3\n"
          ]
        }
      ]
    },
    {
      "cell_type": "code",
      "source": [
        "arr_arange[:, 0] # all the rows, the first column\n",
        "arr_arange[:, 0:1] # all the rows, first colum"
      ],
      "metadata": {
        "colab": {
          "base_uri": "https://localhost:8080/"
        },
        "id": "i9qrrh3MCIZ_",
        "outputId": "792beaee-b81f-408b-a14b-cb289b4ad27f"
      },
      "execution_count": 14,
      "outputs": [
        {
          "output_type": "execute_result",
          "data": {
            "text/plain": [
              "array([[ 1],\n",
              "       [11],\n",
              "       [21],\n",
              "       [31],\n",
              "       [41],\n",
              "       [51],\n",
              "       [61],\n",
              "       [71],\n",
              "       [81],\n",
              "       [91]])"
            ]
          },
          "metadata": {},
          "execution_count": 14
        }
      ]
    },
    {
      "cell_type": "code",
      "source": [
        "arr_arange[1:4, 1:4] # rows from 1 to 3, columns from 1 to 3, we exclude the 4th row and column"
      ],
      "metadata": {
        "colab": {
          "base_uri": "https://localhost:8080/"
        },
        "id": "PMfc3rNRCzzn",
        "outputId": "0ad4360e-1f46-4d95-8e10-fb1e6e5702b1"
      },
      "execution_count": 16,
      "outputs": [
        {
          "output_type": "execute_result",
          "data": {
            "text/plain": [
              "array([[12, 13, 14],\n",
              "       [22, 23, 24],\n",
              "       [32, 33, 34]])"
            ]
          },
          "metadata": {},
          "execution_count": 16
        }
      ]
    },
    {
      "cell_type": "code",
      "source": [
        "arr_arange[:, 1:3]"
      ],
      "metadata": {
        "colab": {
          "base_uri": "https://localhost:8080/"
        },
        "id": "07fxfdDSD5qo",
        "outputId": "e4c34e9e-df87-42f3-ef1f-e838fad435ad"
      },
      "execution_count": 17,
      "outputs": [
        {
          "output_type": "execute_result",
          "data": {
            "text/plain": [
              "array([[ 2,  3],\n",
              "       [12, 13],\n",
              "       [22, 23],\n",
              "       [32, 33],\n",
              "       [42, 43],\n",
              "       [52, 53],\n",
              "       [62, 63],\n",
              "       [72, 73],\n",
              "       [82, 83],\n",
              "       [92, 93]])"
            ]
          },
          "metadata": {},
          "execution_count": 17
        }
      ]
    },
    {
      "cell_type": "code",
      "source": [
        "arr_arange[:] # same as arr_arange[:, :]"
      ],
      "metadata": {
        "colab": {
          "base_uri": "https://localhost:8080/"
        },
        "id": "DZsCTjv1ERik",
        "outputId": "a59cc4c3-154d-44c4-d40e-4d380bb28c81"
      },
      "execution_count": 18,
      "outputs": [
        {
          "output_type": "execute_result",
          "data": {
            "text/plain": [
              "array([[  1,   2,   3,   4,   5,   6,   7,   8,   9,  10],\n",
              "       [ 11,  12,  13,  14,  15,  16,  17,  18,  19,  20],\n",
              "       [ 21,  22,  23,  24,  25,  26,  27,  28,  29,  30],\n",
              "       [ 31,  32,  33,  34,  35,  36,  37,  38,  39,  40],\n",
              "       [ 41,  42,  43,  44,  45,  46,  47,  48,  49,  50],\n",
              "       [ 51,  52,  53,  54,  55,  56,  57,  58,  59,  60],\n",
              "       [ 61,  62,  63,  64,  65,  66,  67,  68,  69,  70],\n",
              "       [ 71,  72,  73,  74,  75,  76,  77,  78,  79,  80],\n",
              "       [ 81,  82,  83,  84,  85,  86,  87,  88,  89,  90],\n",
              "       [ 91,  92,  93,  94,  95,  96,  97,  98,  99, 100]])"
            ]
          },
          "metadata": {},
          "execution_count": 18
        }
      ]
    },
    {
      "cell_type": "code",
      "source": [
        "arr_arange.itemsize # the length of the sliced part"
      ],
      "metadata": {
        "colab": {
          "base_uri": "https://localhost:8080/"
        },
        "id": "Ki1nwD86Erwi",
        "outputId": "490f8c54-b540-41dc-d4c4-03dc7df32946"
      },
      "execution_count": 19,
      "outputs": [
        {
          "output_type": "execute_result",
          "data": {
            "text/plain": [
              "8"
            ]
          },
          "metadata": {},
          "execution_count": 19
        }
      ]
    },
    {
      "cell_type": "code",
      "source": [
        "arr_arange.dtype # the data type of the sliced part"
      ],
      "metadata": {
        "colab": {
          "base_uri": "https://localhost:8080/"
        },
        "id": "mil4sDm3E_Fw",
        "outputId": "90dc0b6a-6c5a-4972-8eb2-1774ee8ccfac"
      },
      "execution_count": 21,
      "outputs": [
        {
          "output_type": "execute_result",
          "data": {
            "text/plain": [
              "dtype('int64')"
            ]
          },
          "metadata": {},
          "execution_count": 21
        }
      ]
    }
  ]
}