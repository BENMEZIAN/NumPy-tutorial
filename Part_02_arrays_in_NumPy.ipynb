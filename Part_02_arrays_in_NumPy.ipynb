{
  "nbformat": 4,
  "nbformat_minor": 0,
  "metadata": {
    "colab": {
      "provenance": [],
      "authorship_tag": "ABX9TyNj/POJSm1XfSyedXd7c3Kv",
      "include_colab_link": true
    },
    "kernelspec": {
      "name": "python3",
      "display_name": "Python 3"
    },
    "language_info": {
      "name": "python"
    }
  },
  "cells": [
    {
      "cell_type": "markdown",
      "metadata": {
        "id": "view-in-github",
        "colab_type": "text"
      },
      "source": [
        "<a href=\"https://colab.research.google.com/github/BENMEZIAN/NumPy-tutorial/blob/main/Part_02_arrays_in_NumPy.ipynb\" target=\"_parent\"><img src=\"https://colab.research.google.com/assets/colab-badge.svg\" alt=\"Open In Colab\"/></a>"
      ]
    },
    {
      "cell_type": "code",
      "execution_count": 4,
      "metadata": {
        "id": "h0ZXu47uSFcx"
      },
      "outputs": [],
      "source": [
        "import numpy as np"
      ]
    },
    {
      "cell_type": "code",
      "source": [
        "# Create one dimensional NumPy array\n",
        "one_d_array = np.array([1,2,3,4]) # create 1D array\n",
        "print(one_d_array) # printing 1d array\n",
        "print(\"------------------------------\")\n",
        "print(\"Information of this array :\")\n",
        "print(\"type(one_d_array) is :\",type(one_d_array)) # printing type of array\n",
        "print(\"Dtype of one_d_array is :\",one_d_array.dtype) # printing dtype of array\n",
        "print(\"Dimension of one_d_array is :\",one_d_array.ndim, \"dimension(s)\") # printing dimension of array\n",
        "print(\"Size of one_d_array is :\",one_d_array.size, \"elements\") # printing size of array\n",
        "print(\"Shape of one_d_array is :\",one_d_array.shape) # printing shape of array  (columns, )"
      ],
      "metadata": {
        "colab": {
          "base_uri": "https://localhost:8080/"
        },
        "id": "hHjkm541SteH",
        "outputId": "40b7ca8a-ce2a-466c-e0ca-7ad1aa01c1d7"
      },
      "execution_count": 26,
      "outputs": [
        {
          "output_type": "stream",
          "name": "stdout",
          "text": [
            "[1 2 3 4]\n",
            "------------------------------\n",
            "Information of this array :\n",
            "type(one_d_array) is : <class 'numpy.ndarray'>\n",
            "Dtype of one_d_array is : int64\n",
            "Dimension of one_d_array is : 1 dimension(s)\n",
            "Size of one_d_array is : 4 elements\n",
            "Shape of one_d_array is : (4,)\n"
          ]
        }
      ]
    },
    {
      "cell_type": "code",
      "source": [
        "# Create two diemensional NumPy array\n",
        "two_d_array = np.array([[1,2,3],[4,5,6],[7,8,9]]) # create 2D array\n",
        "print(two_d_array) # printing 2d array\n",
        "print(\"------------------------------\")\n",
        "print(\"Information of this array :\")\n",
        "print(\"type(one_d_array) is :\",type(two_d_array)) # printing type of array\n",
        "print(\"Dtype of one_d_array is :\",two_d_array.dtype) # printing dtype of array\n",
        "print(\"Dimension of one_d_array is :\",two_d_array.ndim, \"dimension(s)\") # printing dimension of array\n",
        "print(\"Size of one_d_array is :\",two_d_array.size, \"elements\") # printing size of array\n",
        "print(\"Shape of one_d_array is :\",two_d_array.shape) # printing shape of array (rows,columns)"
      ],
      "metadata": {
        "colab": {
          "base_uri": "https://localhost:8080/"
        },
        "id": "neungZ9STOrP",
        "outputId": "2dcb6c11-b7f7-4ce4-ba13-b95ce3d5b795"
      },
      "execution_count": 25,
      "outputs": [
        {
          "output_type": "stream",
          "name": "stdout",
          "text": [
            "[[1 2 3]\n",
            " [4 5 6]\n",
            " [7 8 9]]\n",
            "------------------------------\n",
            "Information of this array :\n",
            "type(one_d_array) is : <class 'numpy.ndarray'>\n",
            "Dtype of one_d_array is : int64\n",
            "Dimension of one_d_array is : 2 dimension(s)\n",
            "Size of one_d_array is : 9 elements\n",
            "Shape of one_d_array is : (3, 3)\n"
          ]
        }
      ]
    }
  ]
}